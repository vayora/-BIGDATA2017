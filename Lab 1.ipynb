{
 "cells": [
  {
   "cell_type": "code",
   "execution_count": 17,
   "metadata": {
    "collapsed": true
   },
   "outputs": [],
   "source": [
    "# Como convenção importaremos a biblioteca numpy como np\n",
    "import numpy as np"
   ]
  },
  {
   "cell_type": "code",
   "execution_count": 18,
   "metadata": {},
   "outputs": [
    {
     "name": "stdout",
     "output_type": "stream",
     "text": [
      "[1 2 3]\n",
      "[ 5 10 15]\n"
     ]
    }
   ],
   "source": [
    "# EXERCICIO\n",
    "# Crie uma array numpy com os valores 1, 2, 3\n",
    "arraySimples = np.array ([1,2,3])\n",
    "# Faça o produto escalar multiplicando a array por 5\n",
    "vezesCinco = arraySimples*5\n",
    "print arraySimples\n",
    "print vezesCinco"
   ]
  },
  {
   "cell_type": "code",
   "execution_count": 19,
   "metadata": {},
   "outputs": [
    {
     "name": "stdout",
     "output_type": "stream",
     "text": [
      "Correto!\n"
     ]
    }
   ],
   "source": [
    "\n",
    "# TESTE do exercício (2a)\n",
    "assert np.all(vezesCinco == [5, 10, 15]), 'valor incorreto para vezesCinco'\n",
    "print \"Correto!\""
   ]
  },
  {
   "cell_type": "code",
   "execution_count": 20,
   "metadata": {},
   "outputs": [
    {
     "name": "stdout",
     "output_type": "stream",
     "text": [
      "u: [ 0.   0.5  1.   1.5  2.   2.5  3.   3.5  4.   4.5]\n",
      "v: [ 5.   5.5  6.   6.5  7.   7.5  8.   8.5  9.   9.5]\n",
      "\n",
      "elementoAelemento\n",
      "[  0.     2.75   6.     9.75  14.    18.75  24.    29.75  36.    42.75]\n",
      "\n",
      "prodInterno\n",
      "183.75\n"
     ]
    }
   ],
   "source": [
    "# EXERCICIO\n",
    "# A função np.arange(inicio,fim,passo)  cria uma lista iniciando em inicio, terminando antes do fim seguindo passo\n",
    "u = np.arange(0, 5, .5)   # np.array([0,0.5,1.0,...,4.5])\n",
    "v = np.arange(5, 10, .5)\n",
    "\n",
    "elementoAelemento = u*v\n",
    "prodInterno = np.dot(u,v)\n",
    "print 'u: {0}'.format(u)\n",
    "print 'v: {0}'.format(v)\n",
    "print '\\nelementoAelemento\\n{0}'.format(elementoAelemento)\n",
    "print '\\nprodInterno\\n{0}'.format(prodInterno)"
   ]
  },
  {
   "cell_type": "code",
   "execution_count": 21,
   "metadata": {},
   "outputs": [
    {
     "name": "stdout",
     "output_type": "stream",
     "text": [
      "Primeiro teste OK\n",
      "Segundo teste OK\n"
     ]
    }
   ],
   "source": [
    "\n",
    "# TESTE do exercício (2b)\n",
    "assert np.all(elementoAelemento == [ 0., 2.75, 6., 9.75, 14., 18.75, 24., 29.75, 36., 42.75]), \"Valores incorretos para elementoAelemento\"\n",
    "print \"Primeiro teste OK\"\n",
    "assert prodInterno==183.75, \"Valor incorreto para prodInterno\"\n",
    "print \"Segundo teste OK\""
   ]
  },
  {
   "cell_type": "code",
   "execution_count": 24,
   "metadata": {},
   "outputs": [
    {
     "name": "stdout",
     "output_type": "stream",
     "text": [
      "A:\n",
      "[[1 2 3 4]\n",
      " [5 6 7 8]]\n",
      "\n",
      "A transposta:\n",
      "[[1 5]\n",
      " [2 6]\n",
      " [3 7]\n",
      " [4 8]]\n",
      "\n",
      "AAt:\n",
      "[[ 30  70]\n",
      " [ 70 174]]\n",
      "\n",
      "AAtInv:\n",
      "[[ 0.54375 -0.21875]\n",
      " [-0.21875  0.09375]]\n",
      "\n",
      "AAtInv * AAt:\n",
      "[[ 1.  0.]\n",
      " [ 0.  1.]]\n"
     ]
    }
   ],
   "source": [
    "# EXERCICIO\n",
    "from numpy.linalg import inv  # agora podemos utilizar o comando inv() sem preceder com np.linalg\n",
    "\n",
    "# Criar uma matriz com listas de listas\n",
    "A = np.matrix([[1,2,3,4],[5,6,7,8]])\n",
    "print 'A:\\n{0}'.format(A)\n",
    "\n",
    "# Imprima a matriz transposta\n",
    "B = np.matrix.transpose(A)\n",
    "print '\\nA transposta:\\n{0}'.format(B)\n",
    "\n",
    "# Multiplique A por sua Transposta\n",
    "AAt = A*B\n",
    "print '\\nAAt:\\n{0}'.format(AAt)\n",
    "\n",
    "# Inverta AAt com o comando inv()\n",
    "AAtInv = inv(AAt)\n",
    "print '\\nAAtInv:\\n{0}'.format(AAtInv)\n",
    "\n",
    "# Mostre que a matriz vezes sua inversa é a identidade\n",
    "# .round(n) arredonda os valores para n casas decimais\n",
    "print '\\nAAtInv * AAt:\\n{0}'.format((AAtInv * AAt).round(4))"
   ]
  },
  {
   "cell_type": "code",
   "execution_count": 25,
   "metadata": {},
   "outputs": [
    {
     "name": "stdout",
     "output_type": "stream",
     "text": [
      "Primeiro teste OK\n",
      "Segundo teste OK\n"
     ]
    }
   ],
   "source": [
    "# TESTE do exercício (2c)\n",
    "assert np.all(AAt == np.matrix([[30, 70], [70, 174]])), \"Valores incorretos para AAt\"\n",
    "print \"Primeiro teste OK\"\n",
    "assert np.allclose(AAtInv, np.matrix([[0.54375, -0.21875], [-0.21875, 0.09375]])), \"Valor incorreto para AAtInv\"\n",
    "print \"Segundo teste OK\""
   ]
  },
  {
   "cell_type": "code",
   "execution_count": 28,
   "metadata": {},
   "outputs": [
    {
     "name": "stdout",
     "output_type": "stream",
     "text": [
      "atributos:\n",
      "[1 2 3 4]\n",
      "\n",
      "Últimos três:\n",
      "[2 3 4]\n"
     ]
    }
   ],
   "source": [
    "# EXERCICIO\n",
    "atributos = np.array([1, 2, 3, 4])\n",
    "print 'atributos:\\n{0}'.format(atributos)\n",
    "\n",
    "# Crie uma array com os 3 últimos elementos de atributos\n",
    "ultTres = atributos[-3: ]\n",
    "\n",
    "print '\\nÚltimos três:\\n{0}'.format(ultTres)"
   ]
  },
  {
   "cell_type": "code",
   "execution_count": 29,
   "metadata": {},
   "outputs": [
    {
     "name": "stdout",
     "output_type": "stream",
     "text": [
      "Teste OK\n"
     ]
    }
   ],
   "source": [
    "# TEST do exercício (2d)\n",
    "assert np.all(ultTres == [2, 3, 4]), \"Valores incorretos para ultTres\"\n",
    "print \"Teste OK\""
   ]
  },
  {
   "cell_type": "code",
   "execution_count": 30,
   "metadata": {},
   "outputs": [
    {
     "name": "stdout",
     "output_type": "stream",
     "text": [
      "50\n",
      "\n",
      "<function <lambda> at 0x0000000006D93128>\n"
     ]
    }
   ],
   "source": [
    "\n",
    "# EXERCICIO\n",
    "# Lembre-se que: \"lambda x, y: x + y\" cria uma função que adiciona dois valores\n",
    "mult10 = lambda x : x*10\n",
    "print mult10(5)\n",
    "\n",
    "# Note that the function still shows its name as <lambda>\n",
    "print '\\n', mult10"
   ]
  },
  {
   "cell_type": "code",
   "execution_count": 31,
   "metadata": {},
   "outputs": [
    {
     "name": "stdout",
     "output_type": "stream",
     "text": [
      "Teste OK\n"
     ]
    }
   ],
   "source": [
    "assert mult10(10)==100, \"Função incorreta\"\n",
    "print \"Teste OK\""
   ]
  },
  {
   "cell_type": "code",
   "execution_count": 59,
   "metadata": {},
   "outputs": [
    {
     "name": "stdout",
     "output_type": "stream",
     "text": [
      "4 6\n"
     ]
    }
   ],
   "source": [
    "\n",
    "# EXERCICIO\n",
    "\n",
    "# Escreva uma função Soma(x) que retorna uma função que recebe um valor y e soma ao x.\n",
    "def Soma(x):\n",
    "    def f(y):\n",
    "        return x+y\n",
    "    return f\n",
    " \n",
    "Soma2 = lambda a,b: Soma(a)(b)\n",
    "Soma3 = lambda a,b,c: Soma(Soma(a)(b))(c)\n",
    "\n",
    "print Soma2(1,3), Soma3(1,2,3)\n",
    "\n"
   ]
  },
  {
   "cell_type": "code",
   "execution_count": 63,
   "metadata": {},
   "outputs": [
    {
     "name": "stdout",
     "output_type": "stream",
     "text": [
      "Ok\n"
     ]
    }
   ],
   "source": [
    "assert Soma3(1,2,3)==6, \"Erro na função\"\n",
    "print \"Ok\""
   ]
  },
  {
   "cell_type": "code",
   "execution_count": 66,
   "metadata": {
    "collapsed": true
   },
   "outputs": [],
   "source": [
    "class FuncionalW(object):\n",
    "    def __init__(self, data):\n",
    "        self.data = data\n",
    "    def map(self, function):\n",
    "        \"\"\"Call `map` on the items in `data` using the provided `function`\"\"\"\n",
    "        return FuncionalW(map(function, self.data))\n",
    "    def reduce(self, function):\n",
    "        \"\"\"Call `reduce` on the items in `data` using the provided `function`\"\"\"\n",
    "        return reduce(function, self.data)\n",
    "    def filter(self, function):\n",
    "        \"\"\"Call `filter` on the items in `data` using the provided `function`\"\"\"\n",
    "        return FuncionalW(filter(function, self.data))\n",
    "    def __eq__(self, other):\n",
    "        return (isinstance(other, self.__class__)\n",
    "            and self.__dict__ == other.__dict__)\n",
    "    def __getattr__(self, name):  return getattr(self.data, name)\n",
    "    def __getitem__(self, k):  return self.data.__getitem__(k)\n",
    "    def __repr__(self):  return 'FuncionalW({0})'.format(repr(self.data))\n",
    "    def __str__(self):  return 'FuncionalW({0})'.format(str(self.data))"
   ]
  },
  {
   "cell_type": "code",
   "execution_count": 74,
   "metadata": {},
   "outputs": [
    {
     "name": "stdout",
     "output_type": "stream",
     "text": [
      "mapResult: FuncionalW([0, 5, 10, 15, 20, 25, 30, 35, 40, 45])\n",
      "\n",
      "filterResult: FuncionalW([0, 2, 4, 6, 8])\n",
      "\n",
      "reduceResult: 45\n"
     ]
    }
   ],
   "source": [
    "# EXERCICIO\n",
    "\n",
    "dataset = FuncionalW(range(10))\n",
    "\n",
    "# Multiplique cada elemento por 5\n",
    "mult5= lambda x: x*5\n",
    "mapResult = dataset.map(mult5)\n",
    "# Filtre eliminando os elementos ímpares\n",
    "# No Python \"x % 2\" é o resultado do resto da divisão de x por 2\n",
    "pares= lambda x : (x%2==0)\n",
    "filterResult = dataset.filter(pares)\n",
    "# Some os elementos\n",
    "soma = lambda x,y : x+y\n",
    "reduceResult = dataset.reduce(soma)\n",
    "\n",
    "print 'mapResult: {0}'.format(mapResult)\n",
    "print '\\nfilterResult: {0}'.format(filterResult)\n",
    "print '\\nreduceResult: {0}'.format(reduceResult)"
   ]
  },
  {
   "cell_type": "code",
   "execution_count": 75,
   "metadata": {},
   "outputs": [
    {
     "name": "stdout",
     "output_type": "stream",
     "text": [
      "Teste 1 OK\n",
      "Teste 2 OK\n",
      "Teste 3 OK\n"
     ]
    }
   ],
   "source": [
    "assert mapResult == FuncionalW([0, 5, 10, 15, 20, 25, 30, 35, 40, 45]),\"Valor incorreto para mapResult\"\n",
    "print \"Teste 1 OK\"\n",
    "\n",
    "assert filterResult == FuncionalW([0, 2, 4, 6, 8]), \"Valor incorreto para filterResult\"\n",
    "print \"Teste 2 OK\"\n",
    "\n",
    "assert reduceResult == 45, \"Valor incorreto para reduceResult\"\n",
    "print \"Teste 3 OK\""
   ]
  },
  {
   "cell_type": "code",
   "execution_count": 164,
   "metadata": {},
   "outputs": [
    {
     "name": "stdout",
     "output_type": "stream",
     "text": [
      "Existem 2 ocorrências de 'palavras'\n"
     ]
    }
   ],
   "source": [
    "# EXERCICIO\n",
    "\n",
    "# split() divide a string em palavras\n",
    "Texto = FuncionalW(\"Esse texto tem varias palavras cada linha tem palavras escritas Esse texto esta escrito\".split())\n",
    "\n",
    "# Vamos fazer uma contagem da palavra 'palavras' no texto\n",
    "\n",
    "# Crie uma função lambda que recebe duas entradas e retorna se são iguais ou não\n",
    "\n",
    "Igual = lambda x,y: (x==y)\n",
    "    \n",
    "# Crie uma função lambda que utiliza a função Igual para detectar se a entrada é igual a palavra 'palavras'\n",
    "DetectaPalavra = lambda x : Igual (x,'palavras')\n",
    "\n",
    "# 1) Filtre as palavras iguais a 'palavras'\n",
    "# 2) Mapeie todos os elementos para o valor 1\n",
    "# 3) Reduza para a somatória\n",
    "contagem = (Texto\n",
    "           .filter (DetectaPalavra)\n",
    "            .map (lambda x:1)\n",
    "            .reduce (lambda x,y: x+y)\n",
    "            )\n",
    "\n",
    "print \"Existem {} ocorrências de 'palavras'\".format(contagem)\n",
    "\n",
    "\n",
    "\n"
   ]
  },
  {
   "cell_type": "code",
   "execution_count": null,
   "metadata": {
    "collapsed": true
   },
   "outputs": [],
   "source": []
  },
  {
   "cell_type": "code",
   "execution_count": null,
   "metadata": {
    "collapsed": true
   },
   "outputs": [],
   "source": []
  }
 ],
 "metadata": {
  "kernelspec": {
   "display_name": "Python 2",
   "language": "python",
   "name": "python2"
  },
  "language_info": {
   "codemirror_mode": {
    "name": "ipython",
    "version": 2
   },
   "file_extension": ".py",
   "mimetype": "text/x-python",
   "name": "python",
   "nbconvert_exporter": "python",
   "pygments_lexer": "ipython2",
   "version": "2.7.13"
  }
 },
 "nbformat": 4,
 "nbformat_minor": 2
}
